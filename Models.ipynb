{
 "cells": [
  {
   "cell_type": "code",
   "execution_count": 2,
   "metadata": {
    "collapsed": false
   },
   "outputs": [
    {
     "name": "stderr",
     "output_type": "stream",
     "text": [
      "/Users/RickS/Library/Enthought/Canopy_64bit/User/lib/python2.7/site-packages/matplotlib/font_manager.py:273: UserWarning: Matplotlib is building the font cache using fc-list. This may take a moment.\n",
      "  warnings.warn('Matplotlib is building the font cache using fc-list. This may take a moment.')\n"
     ]
    }
   ],
   "source": [
    "import numpy as np\n",
    "import pandas as pd\n",
    "import requests\n",
    "from bs4 import BeautifulSoup\n",
    "import cPickle as pickle\n",
    "from scipy import stats\n",
    "\n",
    "from sklearn.linear_model import LinearRegression, Ridge, Lasso, ElasticNet\n",
    "from sklearn.ensemble import RandomForestRegressor, AdaBoostRegressor, GradientBoostingRegressor\n",
    "from sklearn import metrics\n",
    "from sklearn.svm import SVR\n",
    "from sklearn.cross_validation import train_test_split, cross_val_score, ShuffleSplit\n",
    "from sklearn.decomposition import pca, truncated_svd\n",
    "from sklearn.preprocessing import StandardScaler, MinMaxScaler\n",
    "from sklearn.dummy import DummyRegressor\n",
    "from sklearn.grid_search import GridSearchCV\n",
    "\n",
    "import matplotlib.pyplot as plt\n",
    "import seaborn as sns\n",
    "%matplotlib inline"
   ]
  },
  {
   "cell_type": "code",
   "execution_count": 3,
   "metadata": {
    "collapsed": true
   },
   "outputs": [],
   "source": [
    "pd.options.display.max_rows = 150"
   ]
  },
  {
   "cell_type": "markdown",
   "metadata": {},
   "source": [
    "### Load Full Data"
   ]
  },
  {
   "cell_type": "code",
   "execution_count": 4,
   "metadata": {
    "collapsed": true
   },
   "outputs": [],
   "source": [
    "movie_df = None\n",
    "with open('Pickle_Files/movie_df.pkl', 'rb') as f:\n",
    "    movie_df = pickle.load(f)\n",
    "\n"
   ]
  },
  {
   "cell_type": "code",
   "execution_count": 5,
   "metadata": {
    "collapsed": true
   },
   "outputs": [],
   "source": [
    "gnr_dummies = None\n",
    "with open('Pickle_Files/gnr_dummies.pkl', 'rb') as f:\n",
    "    gnr_dummies = pickle.load(f)"
   ]
  },
  {
   "cell_type": "code",
   "execution_count": 6,
   "metadata": {
    "collapsed": true
   },
   "outputs": [],
   "source": [
    "full = None\n",
    "with open('Pickle_Files/new_full.pkl', 'rb') as f:\n",
    "    full = pickle.load(f)"
   ]
  },
  {
   "cell_type": "code",
   "execution_count": 7,
   "metadata": {
    "collapsed": false
   },
   "outputs": [
    {
     "data": {
      "text/plain": [
       "(282, 19)"
      ]
     },
     "execution_count": 7,
     "metadata": {},
     "output_type": "execute_result"
    }
   ],
   "source": [
    "movie_df[movie_df.Production_Budget == 35000000].shape"
   ]
  },
  {
   "cell_type": "code",
   "execution_count": 8,
   "metadata": {
    "collapsed": false
   },
   "outputs": [
    {
     "data": {
      "text/plain": [
       "Index([                    u'Title',              u'Release_Date',\n",
       "                   u'Release_Month',                    u'Genres',\n",
       "                          u'Actors',                 u'Directors',\n",
       "                         u'Runtime',             u'Foreign_Gross',\n",
       "                  u'Domestic_Gross',               u'Total_Gross',\n",
       "              u'Opening_Week_Gross',      u'Opening_Num_Theaters',\n",
       "                  u'Total_Theaters',                u'Male_Score',\n",
       "                    u'Female_Score',         u'Total_Actor_Score',\n",
       "                  u'Director_Score',         u'Production_Budget',\n",
       "                           u'Color',               u'Log_Runtime',\n",
       "       u'Opening_Num_Theaters_6pwr',  u'Opening_Num_Theaters_sqr',\n",
       "             u'Total_Theaters_6pwr',    u'Open_by_Total_Theaters',\n",
       "                 u'Log_Actor_Score',                    u'Action',\n",
       "                       u'Adventure',                 u'Animation',\n",
       "           u'Biography_Documentary',                    u'Comedy'],\n",
       "      dtype='object')"
      ]
     },
     "execution_count": 8,
     "metadata": {},
     "output_type": "execute_result"
    }
   ],
   "source": [
    "full.columns[:30]"
   ]
  },
  {
   "cell_type": "code",
   "execution_count": 12,
   "metadata": {
    "collapsed": false
   },
   "outputs": [
    {
     "name": "stdout",
     "output_type": "stream",
     "text": [
      " 13 Outliers \n",
      "\n",
      "[u'Star Wars', u'The Lion King', u'Star Wars: The Force Awakens', u\"Marvel's The Avengers\", u'Frozen', u'Furious 7', u'Titanic', u'Avengers: Age of Ultron', u'E.T.: The Extra-Terrestrial', u'Avatar', u'Mission: Impossible - Ghost Protocol', u'Jurassic World', u'Jurassic Park']\n"
     ]
    }
   ],
   "source": [
    "target = movie_df.Total_Gross\n",
    "log_target = np.log(target)\n",
    "\n",
    "outliers = [u'Star Wars', u'The Lion King', u'Star Wars: The Force Awakens', u\"Marvel's The Avengers\", u'Frozen', \n",
    "            u'Furious 7', u'Titanic', u'Avengers: Age of Ultron', u'E.T.: The Extra-Terrestrial', u'Avatar', \n",
    "            u'Mission: Impossible - Ghost Protocol', u'Jurassic World', u'Jurassic Park']\n",
    "\n",
    "print len(outliers), 'Outliers \\n'\n",
    "print outliers \n",
    "\n",
    "# Indices to drop:\n",
    "drop_idxs = full[full.Title.isin(outliers)].index\n",
    "\n"
   ]
  },
  {
   "cell_type": "code",
   "execution_count": 13,
   "metadata": {
    "collapsed": false
   },
   "outputs": [
    {
     "name": "stdout",
     "output_type": "stream",
     "text": [
      "\n",
      "Outliers Dropped\n"
     ]
    }
   ],
   "source": [
    "# Dropping Outliers\n",
    "full_dropped = full.drop(drop_idxs)\n",
    "target.drop(drop_idxs, inplace = True) \n",
    "log_target.drop(drop_idxs, inplace = True)\n",
    "print\n",
    "print 'Outliers Dropped'"
   ]
  },
  {
   "cell_type": "code",
   "execution_count": 14,
   "metadata": {
    "collapsed": false
   },
   "outputs": [
    {
     "name": "stdout",
     "output_type": "stream",
     "text": [
      "(2196, 44)\n",
      "(2196,)\n"
     ]
    }
   ],
   "source": [
    "# Do i need to reset index?\n",
    "print full_dropped.shape\n",
    "print target.shape"
   ]
  },
  {
   "cell_type": "markdown",
   "metadata": {},
   "source": [
    "# Models\n",
    "\n",
    "### *Predicting Total Gross*\n",
    "------------------------------------"
   ]
  },
  {
   "cell_type": "code",
   "execution_count": 192,
   "metadata": {
    "collapsed": false
   },
   "outputs": [
    {
     "data": {
      "text/html": [
       "<div>\n",
       "<table border=\"1\" class=\"dataframe\">\n",
       "  <thead>\n",
       "    <tr style=\"text-align: right;\">\n",
       "      <th></th>\n",
       "      <th>Release_Month</th>\n",
       "      <th>Production_Budget</th>\n",
       "      <th>Opening_Num_Theaters</th>\n",
       "      <th>Total_Theaters</th>\n",
       "      <th>Open_by_Total_Theaters</th>\n",
       "      <th>Total_Actor_Score</th>\n",
       "      <th>Director_Score</th>\n",
       "      <th>Log_Runtime</th>\n",
       "      <th>Opening_Num_Theaters_6pwr</th>\n",
       "      <th>Total_Theaters_6pwr</th>\n",
       "      <th>...</th>\n",
       "      <th>Fantasy</th>\n",
       "      <th>Foreign</th>\n",
       "      <th>Horror_Thriller</th>\n",
       "      <th>Music_Musical</th>\n",
       "      <th>Romantic</th>\n",
       "      <th>Scifi</th>\n",
       "      <th>Sport</th>\n",
       "      <th>War</th>\n",
       "      <th>Western</th>\n",
       "      <th>Other</th>\n",
       "    </tr>\n",
       "  </thead>\n",
       "  <tbody>\n",
       "    <tr>\n",
       "      <th>count</th>\n",
       "      <td>2196.000000</td>\n",
       "      <td>2196.000000</td>\n",
       "      <td>2196.000000</td>\n",
       "      <td>2196.000000</td>\n",
       "      <td>2196.000000</td>\n",
       "      <td>2196.000000</td>\n",
       "      <td>2196.000000</td>\n",
       "      <td>2196.000000</td>\n",
       "      <td>2196.000000</td>\n",
       "      <td>2196.000000</td>\n",
       "      <td>...</td>\n",
       "      <td>2196.000000</td>\n",
       "      <td>2196.000000</td>\n",
       "      <td>2196.000000</td>\n",
       "      <td>2196.000000</td>\n",
       "      <td>2196.000000</td>\n",
       "      <td>2196.000000</td>\n",
       "      <td>2196.000000</td>\n",
       "      <td>2196.000000</td>\n",
       "      <td>2196.000000</td>\n",
       "      <td>2196.000000</td>\n",
       "    </tr>\n",
       "    <tr>\n",
       "      <th>mean</th>\n",
       "      <td>55.393443</td>\n",
       "      <td>18.600055</td>\n",
       "      <td>51.222200</td>\n",
       "      <td>55.381619</td>\n",
       "      <td>82.590157</td>\n",
       "      <td>10.005929</td>\n",
       "      <td>6.509016</td>\n",
       "      <td>47.161308</td>\n",
       "      <td>11.549848</td>\n",
       "      <td>12.334098</td>\n",
       "      <td>...</td>\n",
       "      <td>5.237705</td>\n",
       "      <td>2.668033</td>\n",
       "      <td>20.745902</td>\n",
       "      <td>3.479508</td>\n",
       "      <td>8.528689</td>\n",
       "      <td>7.672131</td>\n",
       "      <td>3.659836</td>\n",
       "      <td>2.487705</td>\n",
       "      <td>2.217213</td>\n",
       "      <td>1.315574</td>\n",
       "    </tr>\n",
       "    <tr>\n",
       "      <th>std</th>\n",
       "      <td>30.321122</td>\n",
       "      <td>15.796545</td>\n",
       "      <td>28.439650</td>\n",
       "      <td>24.677656</td>\n",
       "      <td>34.280015</td>\n",
       "      <td>13.479677</td>\n",
       "      <td>19.552370</td>\n",
       "      <td>13.602313</td>\n",
       "      <td>15.774812</td>\n",
       "      <td>16.224877</td>\n",
       "      <td>...</td>\n",
       "      <td>20.043892</td>\n",
       "      <td>12.744680</td>\n",
       "      <td>39.568379</td>\n",
       "      <td>15.473603</td>\n",
       "      <td>26.248290</td>\n",
       "      <td>24.825477</td>\n",
       "      <td>16.011427</td>\n",
       "      <td>12.047224</td>\n",
       "      <td>10.912228</td>\n",
       "      <td>5.581792</td>\n",
       "    </tr>\n",
       "    <tr>\n",
       "      <th>min</th>\n",
       "      <td>1.000000</td>\n",
       "      <td>1.000000</td>\n",
       "      <td>1.000000</td>\n",
       "      <td>1.000000</td>\n",
       "      <td>1.000000</td>\n",
       "      <td>1.000000</td>\n",
       "      <td>1.000000</td>\n",
       "      <td>1.000000</td>\n",
       "      <td>1.000000</td>\n",
       "      <td>1.000000</td>\n",
       "      <td>...</td>\n",
       "      <td>1.000000</td>\n",
       "      <td>1.000000</td>\n",
       "      <td>1.000000</td>\n",
       "      <td>1.000000</td>\n",
       "      <td>1.000000</td>\n",
       "      <td>1.000000</td>\n",
       "      <td>1.000000</td>\n",
       "      <td>1.000000</td>\n",
       "      <td>1.000000</td>\n",
       "      <td>1.000000</td>\n",
       "    </tr>\n",
       "    <tr>\n",
       "      <th>25%</th>\n",
       "      <td>28.000000</td>\n",
       "      <td>7.573196</td>\n",
       "      <td>34.952989</td>\n",
       "      <td>41.679315</td>\n",
       "      <td>93.174808</td>\n",
       "      <td>1.000000</td>\n",
       "      <td>1.000000</td>\n",
       "      <td>37.063606</td>\n",
       "      <td>1.161514</td>\n",
       "      <td>1.477423</td>\n",
       "      <td>...</td>\n",
       "      <td>1.000000</td>\n",
       "      <td>1.000000</td>\n",
       "      <td>1.000000</td>\n",
       "      <td>1.000000</td>\n",
       "      <td>1.000000</td>\n",
       "      <td>1.000000</td>\n",
       "      <td>1.000000</td>\n",
       "      <td>1.000000</td>\n",
       "      <td>1.000000</td>\n",
       "      <td>1.000000</td>\n",
       "    </tr>\n",
       "    <tr>\n",
       "      <th>50%</th>\n",
       "      <td>55.000000</td>\n",
       "      <td>12.524632</td>\n",
       "      <td>59.187710</td>\n",
       "      <td>60.927468</td>\n",
       "      <td>99.476067</td>\n",
       "      <td>1.000000</td>\n",
       "      <td>1.000000</td>\n",
       "      <td>46.039915</td>\n",
       "      <td>5.085271</td>\n",
       "      <td>5.874834</td>\n",
       "      <td>...</td>\n",
       "      <td>1.000000</td>\n",
       "      <td>1.000000</td>\n",
       "      <td>1.000000</td>\n",
       "      <td>1.000000</td>\n",
       "      <td>1.000000</td>\n",
       "      <td>1.000000</td>\n",
       "      <td>1.000000</td>\n",
       "      <td>1.000000</td>\n",
       "      <td>1.000000</td>\n",
       "      <td>1.000000</td>\n",
       "    </tr>\n",
       "    <tr>\n",
       "      <th>75%</th>\n",
       "      <td>82.000000</td>\n",
       "      <td>24.077983</td>\n",
       "      <td>71.565480</td>\n",
       "      <td>72.529550</td>\n",
       "      <td>100.000000</td>\n",
       "      <td>18.360906</td>\n",
       "      <td>1.000000</td>\n",
       "      <td>56.225337</td>\n",
       "      <td>13.990110</td>\n",
       "      <td>15.091636</td>\n",
       "      <td>...</td>\n",
       "      <td>1.000000</td>\n",
       "      <td>1.000000</td>\n",
       "      <td>1.000000</td>\n",
       "      <td>1.000000</td>\n",
       "      <td>1.000000</td>\n",
       "      <td>1.000000</td>\n",
       "      <td>1.000000</td>\n",
       "      <td>1.000000</td>\n",
       "      <td>1.000000</td>\n",
       "      <td>1.000000</td>\n",
       "    </tr>\n",
       "    <tr>\n",
       "      <th>max</th>\n",
       "      <td>100.000000</td>\n",
       "      <td>100.000000</td>\n",
       "      <td>100.000000</td>\n",
       "      <td>100.000000</td>\n",
       "      <td>100.000000</td>\n",
       "      <td>100.000000</td>\n",
       "      <td>100.000000</td>\n",
       "      <td>100.000000</td>\n",
       "      <td>100.000000</td>\n",
       "      <td>100.000000</td>\n",
       "      <td>...</td>\n",
       "      <td>100.000000</td>\n",
       "      <td>100.000000</td>\n",
       "      <td>100.000000</td>\n",
       "      <td>100.000000</td>\n",
       "      <td>100.000000</td>\n",
       "      <td>100.000000</td>\n",
       "      <td>100.000000</td>\n",
       "      <td>100.000000</td>\n",
       "      <td>100.000000</td>\n",
       "      <td>100.000000</td>\n",
       "    </tr>\n",
       "  </tbody>\n",
       "</table>\n",
       "<p>8 rows × 30 columns</p>\n",
       "</div>"
      ],
      "text/plain": [
       "       Release_Month  Production_Budget  Opening_Num_Theaters  Total_Theaters  \\\n",
       "count    2196.000000        2196.000000           2196.000000     2196.000000   \n",
       "mean       55.393443          18.600055             51.222200       55.381619   \n",
       "std        30.321122          15.796545             28.439650       24.677656   \n",
       "min         1.000000           1.000000              1.000000        1.000000   \n",
       "25%        28.000000           7.573196             34.952989       41.679315   \n",
       "50%        55.000000          12.524632             59.187710       60.927468   \n",
       "75%        82.000000          24.077983             71.565480       72.529550   \n",
       "max       100.000000         100.000000            100.000000      100.000000   \n",
       "\n",
       "       Open_by_Total_Theaters  Total_Actor_Score  Director_Score  Log_Runtime  \\\n",
       "count             2196.000000        2196.000000     2196.000000  2196.000000   \n",
       "mean                82.590157          10.005929        6.509016    47.161308   \n",
       "std                 34.280015          13.479677       19.552370    13.602313   \n",
       "min                  1.000000           1.000000        1.000000     1.000000   \n",
       "25%                 93.174808           1.000000        1.000000    37.063606   \n",
       "50%                 99.476067           1.000000        1.000000    46.039915   \n",
       "75%                100.000000          18.360906        1.000000    56.225337   \n",
       "max                100.000000         100.000000      100.000000   100.000000   \n",
       "\n",
       "       Opening_Num_Theaters_6pwr  Total_Theaters_6pwr     ...       \\\n",
       "count                2196.000000          2196.000000     ...        \n",
       "mean                   11.549848            12.334098     ...        \n",
       "std                    15.774812            16.224877     ...        \n",
       "min                     1.000000             1.000000     ...        \n",
       "25%                     1.161514             1.477423     ...        \n",
       "50%                     5.085271             5.874834     ...        \n",
       "75%                    13.990110            15.091636     ...        \n",
       "max                   100.000000           100.000000     ...        \n",
       "\n",
       "           Fantasy      Foreign  Horror_Thriller  Music_Musical     Romantic  \\\n",
       "count  2196.000000  2196.000000      2196.000000    2196.000000  2196.000000   \n",
       "mean      5.237705     2.668033        20.745902       3.479508     8.528689   \n",
       "std      20.043892    12.744680        39.568379      15.473603    26.248290   \n",
       "min       1.000000     1.000000         1.000000       1.000000     1.000000   \n",
       "25%       1.000000     1.000000         1.000000       1.000000     1.000000   \n",
       "50%       1.000000     1.000000         1.000000       1.000000     1.000000   \n",
       "75%       1.000000     1.000000         1.000000       1.000000     1.000000   \n",
       "max     100.000000   100.000000       100.000000     100.000000   100.000000   \n",
       "\n",
       "             Scifi        Sport          War      Western        Other  \n",
       "count  2196.000000  2196.000000  2196.000000  2196.000000  2196.000000  \n",
       "mean      7.672131     3.659836     2.487705     2.217213     1.315574  \n",
       "std      24.825477    16.011427    12.047224    10.912228     5.581792  \n",
       "min       1.000000     1.000000     1.000000     1.000000     1.000000  \n",
       "25%       1.000000     1.000000     1.000000     1.000000     1.000000  \n",
       "50%       1.000000     1.000000     1.000000     1.000000     1.000000  \n",
       "75%       1.000000     1.000000     1.000000     1.000000     1.000000  \n",
       "max     100.000000   100.000000   100.000000   100.000000   100.000000  \n",
       "\n",
       "[8 rows x 30 columns]"
      ]
     },
     "execution_count": 192,
     "metadata": {},
     "output_type": "execute_result"
    }
   ],
   "source": [
    "use_cols = ['Release_Month','Production_Budget', 'Opening_Num_Theaters', 'Total_Theaters', 'Open_by_Total_Theaters',\n",
    "'Total_Actor_Score', 'Director_Score',\n",
    " 'Log_Runtime', 'Opening_Num_Theaters_6pwr', 'Total_Theaters_6pwr', 'Log_Actor_Score']\n",
    "\n",
    "x = full_dropped[use_cols + gnr_dummies.columns.tolist()]\n",
    "\n",
    "scaled_x = MinMaxScaler(feature_range=(1,100)).fit_transform(x)\n",
    "scaled_x = pd.DataFrame(scaled_x, columns=x.columns).set_index(x.index)\n",
    "\n",
    "scaled_x.describe()"
   ]
  },
  {
   "cell_type": "markdown",
   "metadata": {},
   "source": [
    "#### Dumb Model\n",
    "\n",
    "This is our basline. The scores of our dummy regressor is about equivalent to randomly guessing (or a little better)."
   ]
  },
  {
   "cell_type": "code",
   "execution_count": 193,
   "metadata": {
    "collapsed": false
   },
   "outputs": [
    {
     "name": "stdout",
     "output_type": "stream",
     "text": [
      "d1 R2: -0.000137732062189\n",
      "d1 RMSE: 202838717.067\n",
      "\n",
      "d2 R2: -0.142407667013\n",
      "d2 RMSE: 216786135.465\n",
      "\n",
      "d3 R2: -0.430513388732\n",
      "d3 RMSE: 242586658.513\n"
     ]
    }
   ],
   "source": [
    "d1 = DummyRegressor(strategy='mean')\n",
    "d2 = DummyRegressor(strategy='median')\n",
    "md = stats.mode(target)[0]\n",
    "d3 = DummyRegressor(strategy='constant', constant=md)\n",
    "\n",
    "x_train, x_test, y_train, y_test = train_test_split(scaled_x, target, test_size = 0.3)\n",
    "\n",
    "d1.fit(x_train, y_train)\n",
    "d2.fit(x_train, y_train)\n",
    "d3.fit(x_train, y_train)\n",
    "\n",
    "d1preds = d1.predict(x_test)\n",
    "d2preds = d2.predict(x_test)\n",
    "d3preds = d3.predict(x_test)\n",
    "\n",
    "print 'd1 R2:', metrics.r2_score(y_test, d1preds)\n",
    "print 'd1 RMSE:', np.sqrt(metrics.mean_squared_error(y_test, d1preds))\n",
    "print\n",
    "\n",
    "print 'd2 R2:', metrics.r2_score(y_test, d2preds)\n",
    "print 'd2 RMSE:', np.sqrt(metrics.mean_squared_error(y_test, d2preds))\n",
    "print\n",
    "\n",
    "print 'd3 R2:', metrics.r2_score(y_test, d3preds)\n",
    "print 'd3 RMSE:', np.sqrt(metrics.mean_squared_error(y_test, d3preds))\n"
   ]
  },
  {
   "cell_type": "markdown",
   "metadata": {},
   "source": [
    "This is encouraging, at least I can do better than random guessing"
   ]
  },
  {
   "cell_type": "markdown",
   "metadata": {},
   "source": [
    "### Trying Diff Estimators"
   ]
  },
  {
   "cell_type": "code",
   "execution_count": 194,
   "metadata": {
    "collapsed": true
   },
   "outputs": [],
   "source": [
    "lreg = LinearRegression()\n",
    "l1 = Lasso(max_iter = 3000, alpha = 10000000) # I want it to get rid of features\n",
    "l2 = Ridge(max_iter= 3000, alpha = 10)\n",
    "\n",
    "rfor = RandomForestRegressor(n_estimators=25, max_features= 0.5)\n",
    "\n",
    "ada = AdaBoostRegressor(rfor, n_estimators = 25, )\n",
    "\n"
   ]
  },
  {
   "cell_type": "markdown",
   "metadata": {},
   "source": [
    "#### Lasso"
   ]
  },
  {
   "cell_type": "code",
   "execution_count": 195,
   "metadata": {
    "collapsed": false
   },
   "outputs": [
    {
     "name": "stdout",
     "output_type": "stream",
     "text": [
      "l1 R2: 0.547571733964\n",
      "l1 RMSE: 114340902.591\n"
     ]
    }
   ],
   "source": [
    "# Mreh\n",
    "print 'l1 R2:', cross_val_score(l1, scaled_x, target, cv = 30).mean()\n",
    "print 'l1 RMSE:', np.sqrt(np.abs(cross_val_score(l1, scaled_x, target, cv = 30, scoring='mean_squared_error').mean()))"
   ]
  },
  {
   "cell_type": "code",
   "execution_count": 196,
   "metadata": {
    "collapsed": false
   },
   "outputs": [
    {
     "data": {
      "text/plain": [
       "[('Total_Theaters_6pwr', 9366810.6130967047),\n",
       " ('Log_Runtime', 2439478.8697355287),\n",
       " ('Production_Budget', 2251820.2277247291),\n",
       " ('Opening_Num_Theaters_6pwr', -1976212.1440933191),\n",
       " (u'Total_Theaters', 1529114.98060244),\n",
       " (u'Opening_Num_Theaters', -1218573.8138459208),\n",
       " ('Fantasy', 722574.50425664836),\n",
       " ('Western', -704887.31953543879),\n",
       " ('Animation', 627597.49883275549),\n",
       " ('Director_Score', 626166.53257632372),\n",
       " ('War', -353155.09609205514),\n",
       " ('Scifi', 285634.08800881432),\n",
       " ('Romantic', 239332.04300666525),\n",
       " ('Sport', -200762.45477748086),\n",
       " ('Crime', -174451.25248467838),\n",
       " ('Action', 132490.74576273942),\n",
       " ('Release_Month', 96312.419391789736),\n",
       " ('Comedy', 79958.476628342425),\n",
       " ('Drama', -73192.038152297057),\n",
       " ('Music_Musical', -65753.859011082226),\n",
       " ('Open_by_Total_Theaters', 38358.340326837308),\n",
       " ('Log_Actor_Score', -26113.776305808737),\n",
       " ('Family_Kids', 22562.189508100906),\n",
       " ('Horror_Thriller', -5441.5603958451175),\n",
       " ('Total_Actor_Score', 0.0),\n",
       " ('Adventure', -0.0),\n",
       " ('Biography_Documentary', 0.0),\n",
       " ('Disaster', 0.0),\n",
       " ('Foreign', 0.0),\n",
       " ('Other', -0.0)]"
      ]
     },
     "execution_count": 196,
     "metadata": {},
     "output_type": "execute_result"
    }
   ],
   "source": [
    "l1.fit(x_train,y_train)\n",
    "sorted(zip(scaled_x.columns, l1.coef_), key = lambda tup: np.abs(tup[1]), reverse = True)"
   ]
  },
  {
   "cell_type": "markdown",
   "metadata": {},
   "source": [
    "#### Ridge"
   ]
  },
  {
   "cell_type": "code",
   "execution_count": 197,
   "metadata": {
    "collapsed": false
   },
   "outputs": [
    {
     "name": "stdout",
     "output_type": "stream",
     "text": [
      "l2 R2: 0.543411028628\n",
      "l2 RMSE: 114430020.354\n"
     ]
    }
   ],
   "source": [
    "# Mreh\n",
    "print 'l2 R2:', cross_val_score(l2, scaled_x, target, cv = 30).mean()\n",
    "print 'l2 RMSE:', np.sqrt(np.abs(cross_val_score(l2, scaled_x, target, cv = 30, scoring='mean_squared_error').mean()))"
   ]
  },
  {
   "cell_type": "markdown",
   "metadata": {},
   "source": [
    "#### RandomForest"
   ]
  },
  {
   "cell_type": "code",
   "execution_count": 198,
   "metadata": {
    "collapsed": false
   },
   "outputs": [
    {
     "name": "stdout",
     "output_type": "stream",
     "text": [
      "rfor R2: 0.691036379381\n",
      "rfor RMSE: 100629534.569\n"
     ]
    }
   ],
   "source": [
    "#better\n",
    "print 'rfor R2:', cross_val_score(rfor, scaled_x, target, cv = 15).mean()\n",
    "print 'rfor RMSE:', np.sqrt(np.abs(cross_val_score(rfor, scaled_x, target, cv = 15, scoring='mean_squared_error').mean()))"
   ]
  },
  {
   "cell_type": "markdown",
   "metadata": {},
   "source": [
    "#### AdaBoosted RForest"
   ]
  },
  {
   "cell_type": "code",
   "execution_count": 199,
   "metadata": {
    "collapsed": false
   },
   "outputs": [
    {
     "name": "stdout",
     "output_type": "stream",
     "text": [
      "ada R2: 0.71919826481\n",
      "ada RMSE: 96190689.9199\n"
     ]
    }
   ],
   "source": [
    "print 'ada R2:', cross_val_score(ada, scaled_x, target, cv = 15).mean()\n",
    "print 'ada RMSE:', np.sqrt(np.abs(cross_val_score(ada, scaled_x, target, cv = 15, scoring='mean_squared_error').mean()))"
   ]
  },
  {
   "cell_type": "code",
   "execution_count": null,
   "metadata": {
    "collapsed": true
   },
   "outputs": [],
   "source": []
  },
  {
   "cell_type": "markdown",
   "metadata": {},
   "source": [
    "### *Predicting Log_Gross*"
   ]
  },
  {
   "cell_type": "code",
   "execution_count": 15,
   "metadata": {
    "collapsed": false
   },
   "outputs": [
    {
     "name": "stdout",
     "output_type": "stream",
     "text": [
      "(2209, 19)\n",
      "(2209, 19)\n",
      "(2209, 44)\n"
     ]
    }
   ],
   "source": [
    "print movie_df.shape\n",
    "print gnr_dummies.shape\n",
    "# cuz i haven't created the engineered columns in this notebook\n",
    "\n",
    "print full.shape"
   ]
  },
  {
   "cell_type": "code",
   "execution_count": 16,
   "metadata": {
    "collapsed": false
   },
   "outputs": [
    {
     "data": {
      "text/html": [
       "<div>\n",
       "<table border=\"1\" class=\"dataframe\">\n",
       "  <thead>\n",
       "    <tr style=\"text-align: right;\">\n",
       "      <th></th>\n",
       "      <th>Release_Month</th>\n",
       "      <th>Production_Budget</th>\n",
       "      <th>Opening_Num_Theaters</th>\n",
       "      <th>Total_Theaters</th>\n",
       "      <th>Open_by_Total_Theaters</th>\n",
       "      <th>Total_Actor_Score</th>\n",
       "      <th>Director_Score</th>\n",
       "      <th>Log_Runtime</th>\n",
       "      <th>Opening_Num_Theaters_sqr</th>\n",
       "      <th>Log_Actor_Score</th>\n",
       "      <th>...</th>\n",
       "      <th>Fantasy</th>\n",
       "      <th>Foreign</th>\n",
       "      <th>Horror_Thriller</th>\n",
       "      <th>Music_Musical</th>\n",
       "      <th>Romantic</th>\n",
       "      <th>Scifi</th>\n",
       "      <th>Sport</th>\n",
       "      <th>War</th>\n",
       "      <th>Western</th>\n",
       "      <th>Other</th>\n",
       "    </tr>\n",
       "  </thead>\n",
       "  <tbody>\n",
       "    <tr>\n",
       "      <th>count</th>\n",
       "      <td>2196.000000</td>\n",
       "      <td>2196.000000</td>\n",
       "      <td>2196.000000</td>\n",
       "      <td>2196.000000</td>\n",
       "      <td>2196.000000</td>\n",
       "      <td>2196.000000</td>\n",
       "      <td>2196.000000</td>\n",
       "      <td>2196.000000</td>\n",
       "      <td>2196.000000</td>\n",
       "      <td>2196.000000</td>\n",
       "      <td>...</td>\n",
       "      <td>2196.000000</td>\n",
       "      <td>2196.000000</td>\n",
       "      <td>2196.000000</td>\n",
       "      <td>2196.000000</td>\n",
       "      <td>2196.000000</td>\n",
       "      <td>2196.000000</td>\n",
       "      <td>2196.000000</td>\n",
       "      <td>2196.000000</td>\n",
       "      <td>2196.000000</td>\n",
       "      <td>2196.000000</td>\n",
       "    </tr>\n",
       "    <tr>\n",
       "      <th>mean</th>\n",
       "      <td>55.393443</td>\n",
       "      <td>18.600055</td>\n",
       "      <td>51.222200</td>\n",
       "      <td>55.381619</td>\n",
       "      <td>82.590157</td>\n",
       "      <td>10.005929</td>\n",
       "      <td>6.509016</td>\n",
       "      <td>47.161308</td>\n",
       "      <td>34.651002</td>\n",
       "      <td>31.401526</td>\n",
       "      <td>...</td>\n",
       "      <td>5.237705</td>\n",
       "      <td>2.668033</td>\n",
       "      <td>20.745902</td>\n",
       "      <td>3.479508</td>\n",
       "      <td>8.528689</td>\n",
       "      <td>7.672131</td>\n",
       "      <td>3.659836</td>\n",
       "      <td>2.487705</td>\n",
       "      <td>2.217213</td>\n",
       "      <td>1.315574</td>\n",
       "    </tr>\n",
       "    <tr>\n",
       "      <th>std</th>\n",
       "      <td>30.321122</td>\n",
       "      <td>15.796545</td>\n",
       "      <td>28.439650</td>\n",
       "      <td>24.677656</td>\n",
       "      <td>34.280015</td>\n",
       "      <td>13.479677</td>\n",
       "      <td>19.552370</td>\n",
       "      <td>13.602313</td>\n",
       "      <td>24.738913</td>\n",
       "      <td>35.094118</td>\n",
       "      <td>...</td>\n",
       "      <td>20.043892</td>\n",
       "      <td>12.744680</td>\n",
       "      <td>39.568379</td>\n",
       "      <td>15.473603</td>\n",
       "      <td>26.248290</td>\n",
       "      <td>24.825477</td>\n",
       "      <td>16.011427</td>\n",
       "      <td>12.047224</td>\n",
       "      <td>10.912228</td>\n",
       "      <td>5.581792</td>\n",
       "    </tr>\n",
       "    <tr>\n",
       "      <th>min</th>\n",
       "      <td>1.000000</td>\n",
       "      <td>1.000000</td>\n",
       "      <td>1.000000</td>\n",
       "      <td>1.000000</td>\n",
       "      <td>1.000000</td>\n",
       "      <td>1.000000</td>\n",
       "      <td>1.000000</td>\n",
       "      <td>1.000000</td>\n",
       "      <td>1.000000</td>\n",
       "      <td>1.000000</td>\n",
       "      <td>...</td>\n",
       "      <td>1.000000</td>\n",
       "      <td>1.000000</td>\n",
       "      <td>1.000000</td>\n",
       "      <td>1.000000</td>\n",
       "      <td>1.000000</td>\n",
       "      <td>1.000000</td>\n",
       "      <td>1.000000</td>\n",
       "      <td>1.000000</td>\n",
       "      <td>1.000000</td>\n",
       "      <td>1.000000</td>\n",
       "    </tr>\n",
       "    <tr>\n",
       "      <th>25%</th>\n",
       "      <td>28.000000</td>\n",
       "      <td>7.573196</td>\n",
       "      <td>34.952989</td>\n",
       "      <td>41.679315</td>\n",
       "      <td>93.174808</td>\n",
       "      <td>1.000000</td>\n",
       "      <td>1.000000</td>\n",
       "      <td>37.063606</td>\n",
       "      <td>12.654483</td>\n",
       "      <td>1.000000</td>\n",
       "      <td>...</td>\n",
       "      <td>1.000000</td>\n",
       "      <td>1.000000</td>\n",
       "      <td>1.000000</td>\n",
       "      <td>1.000000</td>\n",
       "      <td>1.000000</td>\n",
       "      <td>1.000000</td>\n",
       "      <td>1.000000</td>\n",
       "      <td>1.000000</td>\n",
       "      <td>1.000000</td>\n",
       "      <td>1.000000</td>\n",
       "    </tr>\n",
       "    <tr>\n",
       "      <th>50%</th>\n",
       "      <td>55.000000</td>\n",
       "      <td>12.524632</td>\n",
       "      <td>59.187710</td>\n",
       "      <td>60.927468</td>\n",
       "      <td>99.476067</td>\n",
       "      <td>1.000000</td>\n",
       "      <td>1.000000</td>\n",
       "      <td>46.039915</td>\n",
       "      <td>35.210833</td>\n",
       "      <td>1.000000</td>\n",
       "      <td>...</td>\n",
       "      <td>1.000000</td>\n",
       "      <td>1.000000</td>\n",
       "      <td>1.000000</td>\n",
       "      <td>1.000000</td>\n",
       "      <td>1.000000</td>\n",
       "      <td>1.000000</td>\n",
       "      <td>1.000000</td>\n",
       "      <td>1.000000</td>\n",
       "      <td>1.000000</td>\n",
       "      <td>1.000000</td>\n",
       "    </tr>\n",
       "    <tr>\n",
       "      <th>75%</th>\n",
       "      <td>82.000000</td>\n",
       "      <td>24.077983</td>\n",
       "      <td>71.565480</td>\n",
       "      <td>72.529550</td>\n",
       "      <td>100.000000</td>\n",
       "      <td>18.360906</td>\n",
       "      <td>1.000000</td>\n",
       "      <td>56.225337</td>\n",
       "      <td>51.306919</td>\n",
       "      <td>71.169050</td>\n",
       "      <td>...</td>\n",
       "      <td>1.000000</td>\n",
       "      <td>1.000000</td>\n",
       "      <td>1.000000</td>\n",
       "      <td>1.000000</td>\n",
       "      <td>1.000000</td>\n",
       "      <td>1.000000</td>\n",
       "      <td>1.000000</td>\n",
       "      <td>1.000000</td>\n",
       "      <td>1.000000</td>\n",
       "      <td>1.000000</td>\n",
       "    </tr>\n",
       "    <tr>\n",
       "      <th>max</th>\n",
       "      <td>100.000000</td>\n",
       "      <td>100.000000</td>\n",
       "      <td>100.000000</td>\n",
       "      <td>100.000000</td>\n",
       "      <td>100.000000</td>\n",
       "      <td>100.000000</td>\n",
       "      <td>100.000000</td>\n",
       "      <td>100.000000</td>\n",
       "      <td>100.000000</td>\n",
       "      <td>100.000000</td>\n",
       "      <td>...</td>\n",
       "      <td>100.000000</td>\n",
       "      <td>100.000000</td>\n",
       "      <td>100.000000</td>\n",
       "      <td>100.000000</td>\n",
       "      <td>100.000000</td>\n",
       "      <td>100.000000</td>\n",
       "      <td>100.000000</td>\n",
       "      <td>100.000000</td>\n",
       "      <td>100.000000</td>\n",
       "      <td>100.000000</td>\n",
       "    </tr>\n",
       "  </tbody>\n",
       "</table>\n",
       "<p>8 rows × 29 columns</p>\n",
       "</div>"
      ],
      "text/plain": [
       "       Release_Month  Production_Budget  Opening_Num_Theaters  Total_Theaters  \\\n",
       "count    2196.000000        2196.000000           2196.000000     2196.000000   \n",
       "mean       55.393443          18.600055             51.222200       55.381619   \n",
       "std        30.321122          15.796545             28.439650       24.677656   \n",
       "min         1.000000           1.000000              1.000000        1.000000   \n",
       "25%        28.000000           7.573196             34.952989       41.679315   \n",
       "50%        55.000000          12.524632             59.187710       60.927468   \n",
       "75%        82.000000          24.077983             71.565480       72.529550   \n",
       "max       100.000000         100.000000            100.000000      100.000000   \n",
       "\n",
       "       Open_by_Total_Theaters  Total_Actor_Score  Director_Score  Log_Runtime  \\\n",
       "count             2196.000000        2196.000000     2196.000000  2196.000000   \n",
       "mean                82.590157          10.005929        6.509016    47.161308   \n",
       "std                 34.280015          13.479677       19.552370    13.602313   \n",
       "min                  1.000000           1.000000        1.000000     1.000000   \n",
       "25%                 93.174808           1.000000        1.000000    37.063606   \n",
       "50%                 99.476067           1.000000        1.000000    46.039915   \n",
       "75%                100.000000          18.360906        1.000000    56.225337   \n",
       "max                100.000000         100.000000      100.000000   100.000000   \n",
       "\n",
       "       Opening_Num_Theaters_sqr  Log_Actor_Score     ...           Fantasy  \\\n",
       "count               2196.000000      2196.000000     ...       2196.000000   \n",
       "mean                  34.651002        31.401526     ...          5.237705   \n",
       "std                   24.738913        35.094118     ...         20.043892   \n",
       "min                    1.000000         1.000000     ...          1.000000   \n",
       "25%                   12.654483         1.000000     ...          1.000000   \n",
       "50%                   35.210833         1.000000     ...          1.000000   \n",
       "75%                   51.306919        71.169050     ...          1.000000   \n",
       "max                  100.000000       100.000000     ...        100.000000   \n",
       "\n",
       "           Foreign  Horror_Thriller  Music_Musical     Romantic        Scifi  \\\n",
       "count  2196.000000      2196.000000    2196.000000  2196.000000  2196.000000   \n",
       "mean      2.668033        20.745902       3.479508     8.528689     7.672131   \n",
       "std      12.744680        39.568379      15.473603    26.248290    24.825477   \n",
       "min       1.000000         1.000000       1.000000     1.000000     1.000000   \n",
       "25%       1.000000         1.000000       1.000000     1.000000     1.000000   \n",
       "50%       1.000000         1.000000       1.000000     1.000000     1.000000   \n",
       "75%       1.000000         1.000000       1.000000     1.000000     1.000000   \n",
       "max     100.000000       100.000000     100.000000   100.000000   100.000000   \n",
       "\n",
       "             Sport          War      Western        Other  \n",
       "count  2196.000000  2196.000000  2196.000000  2196.000000  \n",
       "mean      3.659836     2.487705     2.217213     1.315574  \n",
       "std      16.011427    12.047224    10.912228     5.581792  \n",
       "min       1.000000     1.000000     1.000000     1.000000  \n",
       "25%       1.000000     1.000000     1.000000     1.000000  \n",
       "50%       1.000000     1.000000     1.000000     1.000000  \n",
       "75%       1.000000     1.000000     1.000000     1.000000  \n",
       "max     100.000000   100.000000   100.000000   100.000000  \n",
       "\n",
       "[8 rows x 29 columns]"
      ]
     },
     "execution_count": 16,
     "metadata": {},
     "output_type": "execute_result"
    }
   ],
   "source": [
    "use_cols = ['Release_Month','Production_Budget', 'Opening_Num_Theaters', 'Total_Theaters', 'Open_by_Total_Theaters',\n",
    "'Total_Actor_Score', 'Director_Score',\n",
    " 'Log_Runtime', 'Opening_Num_Theaters_sqr', 'Log_Actor_Score']\n",
    "\n",
    "x = full_dropped[use_cols + gnr_dummies.columns.tolist()]\n",
    "\n",
    "scaled_x = MinMaxScaler(feature_range=(1,100)).fit_transform(x)\n",
    "scaled_x = pd.DataFrame(scaled_x, columns=x.columns).set_index(x.index)\n",
    "\n",
    "scaled_x.describe()\n"
   ]
  },
  {
   "cell_type": "code",
   "execution_count": 17,
   "metadata": {
    "collapsed": true
   },
   "outputs": [],
   "source": [
    "lreg = LinearRegression()\n",
    "l1 = Lasso(max_iter = 3000, alpha = 10) \n",
    "l2 = Ridge(max_iter= 3000, alpha = 10)\n",
    "\n",
    "rfor = RandomForestRegressor(n_estimators=25, max_features= 0.5)\n",
    "\n",
    "ada = AdaBoostRegressor(rfor, n_estimators = 30)\n",
    "\n"
   ]
  },
  {
   "cell_type": "code",
   "execution_count": 205,
   "metadata": {
    "collapsed": false
   },
   "outputs": [
    {
     "name": "stdout",
     "output_type": "stream",
     "text": [
      "l1 R2: 0.440837407484\n",
      "l1 RMSE: 1.13327284636\n"
     ]
    }
   ],
   "source": [
    "# Mreh\n",
    "print 'l1 R2:', cross_val_score(l1, scaled_x, log_target, cv = 30).mean()\n",
    "print 'l1 RMSE:', np.sqrt(np.abs(cross_val_score(l1, scaled_x, log_target, cv = 30, scoring='mean_squared_error').mean()))"
   ]
  },
  {
   "cell_type": "code",
   "execution_count": 206,
   "metadata": {
    "collapsed": false
   },
   "outputs": [
    {
     "name": "stdout",
     "output_type": "stream",
     "text": [
      "l2 R2: 0.615867191822\n",
      "l2 RMSE: 0.905789589742\n"
     ]
    }
   ],
   "source": [
    "# Mreh\n",
    "print 'l2 R2:', cross_val_score(l2, scaled_x, log_target, cv = 30).mean()\n",
    "print 'l2 RMSE:', np.sqrt(np.abs(cross_val_score(l2, scaled_x, log_target, cv = 30, scoring='mean_squared_error').mean()))"
   ]
  },
  {
   "cell_type": "code",
   "execution_count": 207,
   "metadata": {
    "collapsed": false
   },
   "outputs": [
    {
     "name": "stdout",
     "output_type": "stream",
     "text": [
      "rfor R2: 0.737911447647\n",
      "rfor RMSE: 0.773971281873\n"
     ]
    }
   ],
   "source": [
    "# Better\n",
    "print 'rfor R2:', cross_val_score(rfor, scaled_x, log_target, cv = 15).mean()\n",
    "print 'rfor RMSE:', np.sqrt(np.abs(cross_val_score(rfor, scaled_x, log_target, cv = 15, scoring='mean_squared_error').mean()))"
   ]
  },
  {
   "cell_type": "code",
   "execution_count": 208,
   "metadata": {
    "collapsed": false
   },
   "outputs": [
    {
     "name": "stdout",
     "output_type": "stream",
     "text": [
      "ada R2: 0.751433153118\n",
      "ada RMSE: 0.762221758248\n"
     ]
    }
   ],
   "source": [
    "print 'ada R2:', cross_val_score(ada, scaled_x, log_target, cv = 15).mean()\n",
    "print 'ada RMSE:', np.sqrt(np.abs(cross_val_score(ada, scaled_x, log_target, cv = 15, scoring='mean_squared_error').mean()))"
   ]
  },
  {
   "cell_type": "code",
   "execution_count": null,
   "metadata": {
    "collapsed": true
   },
   "outputs": [],
   "source": []
  },
  {
   "cell_type": "markdown",
   "metadata": {},
   "source": [
    "### Grid Search Over Ada Boost"
   ]
  },
  {
   "cell_type": "code",
   "execution_count": 209,
   "metadata": {
    "collapsed": false
   },
   "outputs": [],
   "source": [
    "shuffcv = ShuffleSplit(len(scaled_x), n_iter=15, test_size = 0.3)"
   ]
  },
  {
   "cell_type": "code",
   "execution_count": 54,
   "metadata": {
    "collapsed": false
   },
   "outputs": [
    {
     "data": {
      "text/plain": [
       "GridSearchCV(cv=ShuffleSplit(2196, n_iter=15, test_size=0.3, random_state=None),\n",
       "       error_score='raise',\n",
       "       estimator=AdaBoostRegressor(base_estimator=RandomForestRegressor(bootstrap=True, criterion='mse', max_depth=None,\n",
       "           max_features=0.5, max_leaf_nodes=None, min_samples_leaf=1,\n",
       "           min_samples_split=2, min_weight_fraction_leaf=0.0,\n",
       "           n_estimators=25, n_jobs=1, oob_score=False, random_state=None,\n",
       "           verbose=0, warm_start=False),\n",
       "         learning_rate=1.0, loss='linear', n_estimators=30,\n",
       "         random_state=None),\n",
       "       fit_params={}, iid=True, n_jobs=-1,\n",
       "       param_grid={'loss': ['linear', 'exponential', 'square'], 'learning_rate': array([ 0.1,  0.2,  0.3,  0.4,  0.5,  0.6,  0.7,  0.8,  0.9,  1. ])},\n",
       "       pre_dispatch='2*n_jobs', refit=True, scoring='mean_squared_error',\n",
       "       verbose=0)"
      ]
     },
     "execution_count": 54,
     "metadata": {},
     "output_type": "execute_result"
    }
   ],
   "source": [
    "ada_params = {'learning_rate': np.linspace(0.1,1, 10), 'loss': ['linear','exponential', 'square']}\n",
    "\n",
    "grid = GridSearchCV(ada, ada_params, scoring = 'mean_squared_error', cv = shuffcv, n_jobs=-1)\n",
    "grid.fit(scaled_x, log_target)\n"
   ]
  },
  {
   "cell_type": "code",
   "execution_count": 55,
   "metadata": {
    "collapsed": true
   },
   "outputs": [],
   "source": [
    "best_ada = grid.best_estimator_"
   ]
  },
  {
   "cell_type": "code",
   "execution_count": 58,
   "metadata": {
    "collapsed": false
   },
   "outputs": [
    {
     "name": "stdout",
     "output_type": "stream",
     "text": [
      "{'loss': 'linear', 'learning_rate': 0.59999999999999998}\n",
      "{'loss': 'linear', 'learning_rate': 0.59999999999999998}\n",
      "{'loss': 'linear', 'learning_rate': 0.59999999999999998}\n",
      "{'loss': 'linear', 'learning_rate': 0.59999999999999998}\n"
     ]
    }
   ],
   "source": [
    "print grid.best_params_\n",
    "print grid.best_params_\n",
    "print grid.best_params_\n",
    "print grid.best_params_\n"
   ]
  },
  {
   "cell_type": "code",
   "execution_count": 210,
   "metadata": {
    "collapsed": false
   },
   "outputs": [
    {
     "name": "stdout",
     "output_type": "stream",
     "text": [
      "Ada R2 0.763052491257\n",
      "Ada R2 0.767426708969\n"
     ]
    }
   ],
   "source": [
    "rfor = RandomForestRegressor(n_estimators=25, max_features= 0.5, max_depth = 7)\n",
    "best_ada = AdaBoostRegressor(rfor, n_estimators = 30, loss = 'linear', learning_rate= 0.59)\n",
    "\n",
    "x_train, x_test, y_train, y_test = train_test_split(scaled_x, log_target, test_size = 0.3)\n",
    "\n",
    "best_ada.fit(x_train, y_train)\n",
    "\n",
    "preds = best_ada.predict(x_test)\n",
    "\n",
    "print 'Ada R2', metrics.r2_score(y_test,preds)\n",
    "print 'Ada R2', np.sqrt(metrics.mean_squared_error(y_test,preds))"
   ]
  },
  {
   "cell_type": "markdown",
   "metadata": {},
   "source": [
    "------------------------------------------------------------------------------------------"
   ]
  },
  {
   "cell_type": "markdown",
   "metadata": {},
   "source": [
    "### Grid Search Over Gradient Boost\n",
    "\n",
    "I'm going with Gradient Boost because it's just as good as Ada and a decent amount faster."
   ]
  },
  {
   "cell_type": "code",
   "execution_count": 99,
   "metadata": {
    "collapsed": true
   },
   "outputs": [],
   "source": [
    "# Gradient Boosting Tree\n",
    "gBoost = GradientBoostingRegressor(max_features=0.5)\n",
    "grid_params = {'loss':['ls', 'lad', 'huber', 'quantile'],\n",
    "              'learning_rate': [0.025, 0.1,0.33, 0.5],\n",
    "              'n_estimators': [10,20,45],\n",
    "              'max_depth': [3,10, None]}\n",
    "\n"
   ]
  },
  {
   "cell_type": "code",
   "execution_count": 20,
   "metadata": {
    "collapsed": false
   },
   "outputs": [
    {
     "name": "stdout",
     "output_type": "stream",
     "text": [
      "\n"
     ]
    }
   ],
   "source": [
    "shuffcv = ShuffleSplit(len(scaled_x), n_iter=55, test_size = 0.3)"
   ]
  },
  {
   "cell_type": "code",
   "execution_count": null,
   "metadata": {
    "collapsed": true
   },
   "outputs": [],
   "source": [
    "grid = GridSearchCV(gBoost, param_grid=grid_params, n_jobs=-1, scoring = 'mean_squared_error', cv = shuffcv)"
   ]
  },
  {
   "cell_type": "code",
   "execution_count": null,
   "metadata": {
    "collapsed": true
   },
   "outputs": [],
   "source": [
    "grid.fit(scaled_x, log_target)"
   ]
  },
  {
   "cell_type": "code",
   "execution_count": null,
   "metadata": {
    "collapsed": true
   },
   "outputs": [],
   "source": [
    "print grid.best_params_\n",
    "print grid.best_params_\n",
    "print grid.best_params_\n"
   ]
  },
  {
   "cell_type": "code",
   "execution_count": null,
   "metadata": {
    "collapsed": true
   },
   "outputs": [],
   "source": [
    "print grid.best_params_\n",
    "print grid.best_params_\n",
    "print grid.best_params_"
   ]
  },
  {
   "cell_type": "code",
   "execution_count": 211,
   "metadata": {
    "collapsed": true
   },
   "outputs": [],
   "source": [
    "best_gboost = GradientBoostingRegressor(n_estimators= 45, loss = 'lad', learning_rate = 0.33, max_depth = 3, max_features=0.5)"
   ]
  },
  {
   "cell_type": "code",
   "execution_count": 21,
   "metadata": {
    "collapsed": false
   },
   "outputs": [],
   "source": [
    "best_gboost = GradientBoostingRegressor(n_estimators= 45, loss = 'lad', learning_rate = 0.33, max_depth = 3, max_features=0.5)"
   ]
  },
  {
   "cell_type": "code",
   "execution_count": 22,
   "metadata": {
    "collapsed": false
   },
   "outputs": [
    {
     "name": "stdout",
     "output_type": "stream",
     "text": [
      "R2: 0.754582192758\n",
      "RMSE: 0.797108068768\n"
     ]
    }
   ],
   "source": [
    "print 'R2:', cross_val_score(best_gboost, scaled_x, log_target, cv = shuffcv).mean()\n",
    "print 'RMSE:', np.sqrt(np.abs(cross_val_score(best_gboost, scaled_x, log_target, cv = shuffcv, scoring = 'mean_squared_error').mean()))"
   ]
  },
  {
   "cell_type": "code",
   "execution_count": 25,
   "metadata": {
    "collapsed": false
   },
   "outputs": [
    {
     "name": "stdout",
     "output_type": "stream",
     "text": [
      "Gboost r2 0.761755408843\n",
      "Gboost rmse 0.782346642623\n"
     ]
    }
   ],
   "source": [
    "x_train, x_test, y_train, y_test = train_test_split(scaled_x, log_target, test_size = 0.3)\n",
    "\n",
    "best_gboost.fit(x_train,y_train)\n",
    "preds = best_gboost.predict(x_test)\n",
    "print 'Gboost r2', metrics.r2_score(y_test, preds)\n",
    "print 'Gboost rmse', np.sqrt(metrics.mean_squared_error(y_test, preds))"
   ]
  },
  {
   "cell_type": "code",
   "execution_count": 26,
   "metadata": {
    "collapsed": false
   },
   "outputs": [
    {
     "data": {
      "text/plain": [
       "[(u'Total_Theaters', 0.16850106700418069),\n",
       " ('Open_by_Total_Theaters', 0.15552722213472087),\n",
       " ('Log_Runtime', 0.13966203767835061),\n",
       " ('Production_Budget', 0.11648268167115616),\n",
       " ('Release_Month', 0.076529511148617793),\n",
       " ('Opening_Num_Theaters_sqr', 0.073455878953839593),\n",
       " (u'Opening_Num_Theaters', 0.063314870222469039),\n",
       " ('Director_Score', 0.028859930976715114),\n",
       " ('Log_Actor_Score', 0.023450242707647596),\n",
       " ('Total_Actor_Score', 0.017053414724135758),\n",
       " ('Foreign', 0.015964998385595633),\n",
       " ('Romantic', 0.013506992103328473),\n",
       " ('Biography_Documentary', 0.01314680033123998),\n",
       " ('Sport', 0.012108653241129511),\n",
       " ('Drama', 0.011290453970935093),\n",
       " ('War', 0.010989204196698283),\n",
       " ('Fantasy', 0.01022977366286619),\n",
       " ('Adventure', 0.0098959877453824365),\n",
       " ('Western', 0.0098862443076118516),\n",
       " ('Animation', 0.0098677719013900538),\n",
       " ('Action', 0.0076819074582734868),\n",
       " ('Horror_Thriller', 0.0060667724703663932),\n",
       " ('Comedy', 0.0045082921303226638),\n",
       " ('Scifi', 0.0020192908730267186),\n",
       " ('Crime', 0.0),\n",
       " ('Disaster', 0.0),\n",
       " ('Family_Kids', 0.0),\n",
       " ('Music_Musical', 0.0),\n",
       " ('Other', 0.0)]"
      ]
     },
     "execution_count": 26,
     "metadata": {},
     "output_type": "execute_result"
    }
   ],
   "source": [
    "sorted(zip(scaled_x.columns, best_gboost.feature_importances_), key = lambda tup: np.abs(tup[1]), reverse = True)"
   ]
  },
  {
   "cell_type": "code",
   "execution_count": 27,
   "metadata": {
    "collapsed": false
   },
   "outputs": [
    {
     "name": "stdout",
     "output_type": "stream",
     "text": [
      "Average $ Error: 63.6768892261\n",
      "Average Percent Error: 0.380953275813\n"
     ]
    }
   ],
   "source": [
    "error_df = pd.DataFrame({'Title': full_dropped.ix[x_test.index, 'Title'] , 'X_Budget': full_dropped.ix[x_test.Production_Budget.index, 'Production_Budget'].values,  'Y_Actual': np.exp(y_test), 'Y_Pred' : np.exp(preds)})\n",
    "error_df['Error'] = error_df.Y_Actual - error_df.Y_Pred\n",
    "\n",
    "\n",
    "# divide and round for readability\n",
    "\n",
    "# divide X_budget by a million\n",
    "error_df['X_Budget'] = error_df.X_Budget/1000000.\n",
    "\n",
    "error_df['Y_Actual'] = (error_df.Y_Actual/1000000).map(lambda d: np.round(d, 2))\n",
    "error_df['Y_Pred'] = (error_df.Y_Pred/1000000).map(lambda d: np.round(d, 2))\n",
    "\n",
    "# divide error by 1Mil and round \n",
    "error_df['Error'] = (error_df.Error/1000000.).map(lambda d: np.round(d, 2))\n",
    "\n",
    "\n",
    "error_df['Abs_Error'] = error_df.Error.abs()\n",
    "error_df['Percent_Error'] = (error_df.Abs_Error/error_df.Y_Actual).round(2)\n",
    "\n",
    "\n",
    "\n",
    "# On average I was off by 65 Million or 40%\n",
    "print 'Average $ Error:', error_df.Abs_Error.mean()\n",
    "\n",
    "print 'Average Percent Error:', error_df.Abs_Error.mean()/error_df.Y_Actual.mean()"
   ]
  },
  {
   "cell_type": "markdown",
   "metadata": {},
   "source": [
    "### Interpretation\n",
    "\n",
    "So Gradient Boosted Random Forests are performing the best at predicting the log of the total gross. "
   ]
  },
  {
   "cell_type": "markdown",
   "metadata": {},
   "source": [
    "The first question that comes to mind is what does it mean to be predicting the logarithm of the Total Gross? How does this affect our predictions and our interpretations of the errors?"
   ]
  },
  {
   "cell_type": "markdown",
   "metadata": {},
   "source": [
    "Our Gradient Boosted Model has an average error of 0.762.\n",
    "If we assume that all of it's predictions were off by this much, this means that the actual dollar($) amount that it was off by is proportional to the amount it guessed\n",
    " \n",
    "Aka if it guessed that log(gross) was 10, this means it was off by about 25,000 dollars. However if it guessed the log(gross) was 20, it was off by 500 million..."
   ]
  },
  {
   "cell_type": "code",
   "execution_count": 29,
   "metadata": {
    "collapsed": false
   },
   "outputs": [
    {
     "name": "stdout",
     "output_type": "stream",
     "text": [
      "3464.0\n",
      "9415.0\n",
      "25593.0\n",
      "69569.0\n",
      "189109.0\n",
      "514052.0\n",
      "1397339.0\n",
      "3798360.0\n",
      "10325013.0\n",
      "28066294.0\n",
      "76292098.0\n",
      "207383422.0\n",
      "563726589.0\n",
      "1532367742.0\n"
     ]
    }
   ],
   "source": [
    "diffs = []\n",
    "rmse = 0.771\n",
    "# for each number between 8 and 22 (range of our target)\n",
    "# what's the dollar amount we would be off by if we were off by 0.771\n",
    "for i in range(8,22):\n",
    "    print np.round(np.exp(i+rmse) - np.exp(i))\n",
    "    diffs.append(i)"
   ]
  },
  {
   "cell_type": "markdown",
   "metadata": {
    "collapsed": false
   },
   "source": [
    "This just means that to really interpret the model we need to inspect it's performance over each part of the data more closely."
   ]
  },
  {
   "cell_type": "markdown",
   "metadata": {},
   "source": [
    "Lets look at our feature importances and inspect what their relationship was to our models performance.\n",
    "\n",
    "You'll notice that all the genres are grouped together in their predictive power and are overall less predictive than features such as theater count, budget, and runtime."
   ]
  },
  {
   "cell_type": "code",
   "execution_count": 30,
   "metadata": {
    "collapsed": false
   },
   "outputs": [
    {
     "data": {
      "text/plain": [
       "[('Open_by_Total_Theaters', 0.15855359579308914),\n",
       " (u'Total_Theaters', 0.14958339339162846),\n",
       " ('Log_Runtime', 0.11248187940794041),\n",
       " ('Production_Budget', 0.10274934190505619),\n",
       " ('Release_Month', 0.081317663480523023),\n",
       " ('Opening_Num_Theaters_sqr', 0.078487064294008563),\n",
       " (u'Opening_Num_Theaters', 0.063092124836301389),\n",
       " ('Total_Actor_Score', 0.052293624585325403),\n",
       " ('Director_Score', 0.044132475032101964),\n",
       " ('Log_Actor_Score', 0.02651327248904356),\n",
       " ('Drama', 0.026301716136017773),\n",
       " ('Animation', 0.017919876563869765),\n",
       " ('Action', 0.015423726999542132),\n",
       " ('Foreign', 0.010248901007207158),\n",
       " ('War', 0.0099225291627992891),\n",
       " ('Romantic', 0.0087201477845021309),\n",
       " ('Sport', 0.0076779467552210191),\n",
       " ('Comedy', 0.0062886399490336992),\n",
       " ('Western', 0.0053614024055492013),\n",
       " ('Horror_Thriller', 0.004494801506474729),\n",
       " ('Biography_Documentary', 0.0043901784215140066),\n",
       " ('Crime', 0.0041018637753556606),\n",
       " ('Adventure', 0.0039681102863873838),\n",
       " ('Fantasy', 0.0033309782001285735),\n",
       " ('Scifi', 0.0026447458313794627),\n",
       " ('Disaster', 0.0),\n",
       " ('Family_Kids', 0.0),\n",
       " ('Music_Musical', 0.0),\n",
       " ('Other', 0.0)]"
      ]
     },
     "execution_count": 30,
     "metadata": {},
     "output_type": "execute_result"
    }
   ],
   "source": [
    "sorted(zip(scaled_x.columns, best_gboost.feature_importances_), key = lambda tup: np.abs(tup[1]), reverse = True)"
   ]
  },
  {
   "cell_type": "markdown",
   "metadata": {},
   "source": [
    "#### Inspecting Predictions by Log Runtime\n",
    "----------------------------------------"
   ]
  },
  {
   "cell_type": "markdown",
   "metadata": {},
   "source": [
    "Wow... who the.. just no..."
   ]
  },
  {
   "cell_type": "code",
   "execution_count": 28,
   "metadata": {
    "collapsed": false
   },
   "outputs": [
    {
     "data": {
      "text/html": [
       "<div>\n",
       "<table border=\"1\" class=\"dataframe\">\n",
       "  <thead>\n",
       "    <tr style=\"text-align: right;\">\n",
       "      <th></th>\n",
       "      <th>Title</th>\n",
       "      <th>X_Budget</th>\n",
       "      <th>Y_Actual</th>\n",
       "      <th>Y_Pred</th>\n",
       "      <th>Error</th>\n",
       "      <th>Abs_Error</th>\n",
       "      <th>Percent_Error</th>\n",
       "      <th>Log_Runtime</th>\n",
       "    </tr>\n",
       "  </thead>\n",
       "  <tbody>\n",
       "    <tr>\n",
       "      <th>1277</th>\n",
       "      <td>The Look of Love</td>\n",
       "      <td>35.0</td>\n",
       "      <td>0.02</td>\n",
       "      <td>1.34</td>\n",
       "      <td>-1.32</td>\n",
       "      <td>1.32</td>\n",
       "      <td>66.00</td>\n",
       "      <td>4.574711</td>\n",
       "    </tr>\n",
       "    <tr>\n",
       "      <th>499</th>\n",
       "      <td>Hamlet 2</td>\n",
       "      <td>9.0</td>\n",
       "      <td>4.93</td>\n",
       "      <td>54.38</td>\n",
       "      <td>-49.46</td>\n",
       "      <td>49.46</td>\n",
       "      <td>10.03</td>\n",
       "      <td>4.521789</td>\n",
       "    </tr>\n",
       "    <tr>\n",
       "      <th>91</th>\n",
       "      <td>The Second Mother</td>\n",
       "      <td>35.0</td>\n",
       "      <td>0.38</td>\n",
       "      <td>27.45</td>\n",
       "      <td>-27.08</td>\n",
       "      <td>27.08</td>\n",
       "      <td>71.26</td>\n",
       "      <td>4.709530</td>\n",
       "    </tr>\n",
       "    <tr>\n",
       "      <th>837</th>\n",
       "      <td>Below</td>\n",
       "      <td>35.0</td>\n",
       "      <td>0.61</td>\n",
       "      <td>10.07</td>\n",
       "      <td>-9.46</td>\n",
       "      <td>9.46</td>\n",
       "      <td>15.51</td>\n",
       "      <td>4.653960</td>\n",
       "    </tr>\n",
       "    <tr>\n",
       "      <th>1652</th>\n",
       "      <td>Ceremony</td>\n",
       "      <td>35.0</td>\n",
       "      <td>0.02</td>\n",
       "      <td>0.35</td>\n",
       "      <td>-0.33</td>\n",
       "      <td>0.33</td>\n",
       "      <td>16.50</td>\n",
       "      <td>4.488636</td>\n",
       "    </tr>\n",
       "  </tbody>\n",
       "</table>\n",
       "</div>"
      ],
      "text/plain": [
       "                  Title  X_Budget  Y_Actual  Y_Pred  Error  Abs_Error  \\\n",
       "1277   The Look of Love      35.0      0.02    1.34  -1.32       1.32   \n",
       "499            Hamlet 2       9.0      4.93   54.38 -49.46      49.46   \n",
       "91    The Second Mother      35.0      0.38   27.45 -27.08      27.08   \n",
       "837               Below      35.0      0.61   10.07  -9.46       9.46   \n",
       "1652           Ceremony      35.0      0.02    0.35  -0.33       0.33   \n",
       "\n",
       "      Percent_Error  Log_Runtime  \n",
       "1277          66.00     4.574711  \n",
       "499           10.03     4.521789  \n",
       "91            71.26     4.709530  \n",
       "837           15.51     4.653960  \n",
       "1652          16.50     4.488636  "
      ]
     },
     "execution_count": 28,
     "metadata": {},
     "output_type": "execute_result"
    },
    {
     "data": {
      "image/png": "[encoded data removed]",
      "text/plain": [
       "<matplotlib.figure.Figure at 0x103e168d0>"
      ]
     },
     "metadata": {},
     "output_type": "display_data"
    }
   ],
   "source": [
    "error_df['Log_Runtime'] = full_dropped.ix[error_df.index, 'Log_Runtime']\n",
    "plt.scatter(error_df.Log_Runtime, error_df.Percent_Error) # Ok who the fuck fucked up\n",
    "\n",
    "# this is not a lot of evidence, but it does hint that my model is not so great at predicting low budget movies \n",
    "# but who makes those anymore anyway\n",
    "error_df[error_df.Percent_Error> 10]"
   ]
  },
  {
   "cell_type": "markdown",
   "metadata": {},
   "source": [
    "We can check that by inspecting how our model did in relation to the budget of the movie."
   ]
  },
  {
   "cell_type": "markdown",
   "metadata": {},
   "source": [
    "#### Inspecting Predictions by Budget\n",
    "----------------------------------------"
   ]
  },
  {
   "cell_type": "code",
   "execution_count": 29,
   "metadata": {
    "collapsed": false
   },
   "outputs": [
    {
     "data": {
      "text/plain": [
       "<matplotlib.text.Text at 0x116d425d0>"
      ]
     },
     "execution_count": 29,
     "metadata": {},
     "output_type": "execute_result"
    },
    {
     "data": {
      "image/png": "[encoded data removed]",
      "text/plain": [
       "<matplotlib.figure.Figure at 0x114712190>"
      ]
     },
     "metadata": {},
     "output_type": "display_data"
    }
   ],
   "source": [
    "# BUDGET UNITS ARE IN MILLIONS\n",
    "error_df.X_Budget.hist()\n",
    "plt.title('Distribution of Movie Budgets')\n",
    "plt.xlabel('Budget in Millions of Dollars ($)')\n",
    "plt.ylabel('Number of Movies')"
   ]
  },
  {
   "cell_type": "markdown",
   "metadata": {},
   "source": [
    "Lets group our films into one of five budget categories:\n",
    "    - Low Budget (<10Mil)\n",
    "    - Low-Intermediate Budget (10-50mil)\n",
    "    - Intermediate Budget (50-100mil)\n",
    "    - High-Intermediate Budget (100-200 mil)\n",
    "    - High Budget (>200mil)"
   ]
  },
  {
   "cell_type": "code",
   "execution_count": 30,
   "metadata": {
    "collapsed": false
   },
   "outputs": [
    {
     "data": {
      "text/plain": [
       "Budget_Group\n",
       "Low                  0.430\n",
       "Low_Intermediate     0.455\n",
       "Intermediate         0.370\n",
       "High_Intermediate    0.310\n",
       "High                 0.340\n",
       "Name: Percent_Error, dtype: float64"
      ]
     },
     "execution_count": 30,
     "metadata": {},
     "output_type": "execute_result"
    }
   ],
   "source": [
    "# Lets make 5 Groups\n",
    "bins = [0, 10, 50, 100, 200, 400]\n",
    "\n",
    "# square brackets [] mean open/inclusive, () means closed\n",
    "error_df['Budget_Group'] = pd.cut(error_df.X_Budget, bins=bins, right = False, \n",
    "                                  labels = ['Low','Low_Intermediate', 'Intermediate','High_Intermediate', 'High'])\n",
    "\n",
    "error_df.groupby('Budget_Group').Percent_Error.median()"
   ]
  },
  {
   "cell_type": "markdown",
   "metadata": {},
   "source": [
    "Our model seems to get better at predicting as the budget of the movie goes up."
   ]
  },
  {
   "cell_type": "code",
   "execution_count": 33,
   "metadata": {
    "collapsed": false
   },
   "outputs": [
    {
     "data": {
      "text/html": [
       "<div>\n",
       "<table border=\"1\" class=\"dataframe\">\n",
       "  <thead>\n",
       "    <tr style=\"text-align: right;\">\n",
       "      <th></th>\n",
       "      <th>Title</th>\n",
       "      <th>X_Budget</th>\n",
       "      <th>Y_Actual</th>\n",
       "      <th>Y_Pred</th>\n",
       "      <th>Error</th>\n",
       "      <th>Abs_Error</th>\n",
       "      <th>Percent_Error</th>\n",
       "      <th>Log_Runtime</th>\n",
       "      <th>Budget_Group</th>\n",
       "    </tr>\n",
       "  </thead>\n",
       "  <tbody>\n",
       "    <tr>\n",
       "      <th>514</th>\n",
       "      <td>Transformers: Revenge of the Fallen</td>\n",
       "      <td>210.0</td>\n",
       "      <td>836.30</td>\n",
       "      <td>1105.09</td>\n",
       "      <td>-268.78</td>\n",
       "      <td>268.78</td>\n",
       "      <td>0.32</td>\n",
       "      <td>4.969813</td>\n",
       "      <td>High</td>\n",
       "    </tr>\n",
       "    <tr>\n",
       "      <th>906</th>\n",
       "      <td>Green Lantern</td>\n",
       "      <td>200.0</td>\n",
       "      <td>219.85</td>\n",
       "      <td>352.09</td>\n",
       "      <td>-132.24</td>\n",
       "      <td>132.24</td>\n",
       "      <td>0.60</td>\n",
       "      <td>4.653960</td>\n",
       "      <td>High</td>\n",
       "    </tr>\n",
       "    <tr>\n",
       "      <th>890</th>\n",
       "      <td>Tron Legacy</td>\n",
       "      <td>200.0</td>\n",
       "      <td>400.06</td>\n",
       "      <td>346.51</td>\n",
       "      <td>53.55</td>\n",
       "      <td>53.55</td>\n",
       "      <td>0.13</td>\n",
       "      <td>4.828314</td>\n",
       "      <td>High</td>\n",
       "    </tr>\n",
       "    <tr>\n",
       "      <th>1492</th>\n",
       "      <td>Spider-Man 2</td>\n",
       "      <td>200.0</td>\n",
       "      <td>783.77</td>\n",
       "      <td>617.60</td>\n",
       "      <td>166.16</td>\n",
       "      <td>166.16</td>\n",
       "      <td>0.21</td>\n",
       "      <td>4.844187</td>\n",
       "      <td>High</td>\n",
       "    </tr>\n",
       "    <tr>\n",
       "      <th>884</th>\n",
       "      <td>The Amazing Spider-Man 2</td>\n",
       "      <td>200.0</td>\n",
       "      <td>708.98</td>\n",
       "      <td>1041.51</td>\n",
       "      <td>-332.53</td>\n",
       "      <td>332.53</td>\n",
       "      <td>0.47</td>\n",
       "      <td>4.955827</td>\n",
       "      <td>High</td>\n",
       "    </tr>\n",
       "    <tr>\n",
       "      <th>121</th>\n",
       "      <td>Robin Hood</td>\n",
       "      <td>210.0</td>\n",
       "      <td>321.67</td>\n",
       "      <td>402.82</td>\n",
       "      <td>-81.15</td>\n",
       "      <td>81.15</td>\n",
       "      <td>0.25</td>\n",
       "      <td>4.997212</td>\n",
       "      <td>High</td>\n",
       "    </tr>\n",
       "    <tr>\n",
       "      <th>106</th>\n",
       "      <td>Pirates of the Caribbean: At World's End</td>\n",
       "      <td>300.0</td>\n",
       "      <td>963.42</td>\n",
       "      <td>982.22</td>\n",
       "      <td>-18.80</td>\n",
       "      <td>18.80</td>\n",
       "      <td>0.02</td>\n",
       "      <td>5.123964</td>\n",
       "      <td>High</td>\n",
       "    </tr>\n",
       "    <tr>\n",
       "      <th>300</th>\n",
       "      <td>The Lone Ranger</td>\n",
       "      <td>275.0</td>\n",
       "      <td>260.50</td>\n",
       "      <td>417.60</td>\n",
       "      <td>-157.10</td>\n",
       "      <td>157.10</td>\n",
       "      <td>0.60</td>\n",
       "      <td>5.003946</td>\n",
       "      <td>High</td>\n",
       "    </tr>\n",
       "    <tr>\n",
       "      <th>522</th>\n",
       "      <td>Terminator Salvation</td>\n",
       "      <td>200.0</td>\n",
       "      <td>371.35</td>\n",
       "      <td>571.06</td>\n",
       "      <td>-199.71</td>\n",
       "      <td>199.71</td>\n",
       "      <td>0.54</td>\n",
       "      <td>4.736198</td>\n",
       "      <td>High</td>\n",
       "    </tr>\n",
       "    <tr>\n",
       "      <th>1112</th>\n",
       "      <td>The Golden Compass(Anti-Christian)</td>\n",
       "      <td>205.0</td>\n",
       "      <td>372.23</td>\n",
       "      <td>394.72</td>\n",
       "      <td>-22.48</td>\n",
       "      <td>22.48</td>\n",
       "      <td>0.06</td>\n",
       "      <td>4.727388</td>\n",
       "      <td>High</td>\n",
       "    </tr>\n",
       "    <tr>\n",
       "      <th>1493</th>\n",
       "      <td>Spider-Man 3</td>\n",
       "      <td>258.0</td>\n",
       "      <td>890.87</td>\n",
       "      <td>1262.44</td>\n",
       "      <td>-371.57</td>\n",
       "      <td>371.57</td>\n",
       "      <td>0.42</td>\n",
       "      <td>4.941642</td>\n",
       "      <td>High</td>\n",
       "    </tr>\n",
       "    <tr>\n",
       "      <th>583</th>\n",
       "      <td>2012</td>\n",
       "      <td>200.0</td>\n",
       "      <td>769.68</td>\n",
       "      <td>490.28</td>\n",
       "      <td>279.40</td>\n",
       "      <td>279.40</td>\n",
       "      <td>0.36</td>\n",
       "      <td>5.062595</td>\n",
       "      <td>High</td>\n",
       "    </tr>\n",
       "  </tbody>\n",
       "</table>\n",
       "</div>"
      ],
      "text/plain": [
       "                                         Title  X_Budget  Y_Actual   Y_Pred  \\\n",
       "514        Transformers: Revenge of the Fallen     210.0    836.30  1105.09   \n",
       "906                              Green Lantern     200.0    219.85   352.09   \n",
       "890                                Tron Legacy     200.0    400.06   346.51   \n",
       "1492                              Spider-Man 2     200.0    783.77   617.60   \n",
       "884                   The Amazing Spider-Man 2     200.0    708.98  1041.51   \n",
       "121                                 Robin Hood     210.0    321.67   402.82   \n",
       "106   Pirates of the Caribbean: At World's End     300.0    963.42   982.22   \n",
       "300                            The Lone Ranger     275.0    260.50   417.60   \n",
       "522                       Terminator Salvation     200.0    371.35   571.06   \n",
       "1112        The Golden Compass(Anti-Christian)     205.0    372.23   394.72   \n",
       "1493                              Spider-Man 3     258.0    890.87  1262.44   \n",
       "583                                       2012     200.0    769.68   490.28   \n",
       "\n",
       "       Error  Abs_Error  Percent_Error  Log_Runtime Budget_Group  \n",
       "514  -268.78     268.78           0.32     4.969813         High  \n",
       "906  -132.24     132.24           0.60     4.653960         High  \n",
       "890    53.55      53.55           0.13     4.828314         High  \n",
       "1492  166.16     166.16           0.21     4.844187         High  \n",
       "884  -332.53     332.53           0.47     4.955827         High  \n",
       "121   -81.15      81.15           0.25     4.997212         High  \n",
       "106   -18.80      18.80           0.02     5.123964         High  \n",
       "300  -157.10     157.10           0.60     5.003946         High  \n",
       "522  -199.71     199.71           0.54     4.736198         High  \n",
       "1112  -22.48      22.48           0.06     4.727388         High  \n",
       "1493 -371.57     371.57           0.42     4.941642         High  \n",
       "583   279.40     279.40           0.36     5.062595         High  "
      ]
     },
     "execution_count": 33,
     "metadata": {},
     "output_type": "execute_result"
    }
   ],
   "source": [
    "error_df[error_df.Budget_Group == 'High']\n",
    "\n",
    "# relatively low Percent Errors"
   ]
  },
  {
   "cell_type": "markdown",
   "metadata": {
    "collapsed": true
   },
   "source": [
    "#### Inspecting Predictions By Actor Score"
   ]
  },
  {
   "cell_type": "code",
   "execution_count": 34,
   "metadata": {
    "collapsed": false
   },
   "outputs": [],
   "source": [
    "error_df['Total_Actor_Score'] = full_dropped.ix[error_df.index, 'Total_Actor_Score']\n",
    "\n",
    "# divide into bins\n",
    "\n",
    "act_scr_bins = [0,1, 10,50,100,200, 300, 400]\n",
    "error_df['Act_Scr_Bins'] = pd.cut(error_df.Total_Actor_Score, bins = act_scr_bins, right = False,\n",
    "                                 labels = ['0', '1-10', '10-50', '50-100','100-200', '200-300', '300+'])\n"
   ]
  },
  {
   "cell_type": "markdown",
   "metadata": {},
   "source": [
    "While I don't see much of a relationship... My model does seem to improve a little as actor scores increase."
   ]
  },
  {
   "cell_type": "code",
   "execution_count": 37,
   "metadata": {
    "collapsed": false
   },
   "outputs": [
    {
     "data": {
      "text/plain": [
       "Act_Scr_Bins\n",
       "0          0.430\n",
       "1-10       0.330\n",
       "10-50      0.400\n",
       "50-100     0.370\n",
       "100-200    0.425\n",
       "200-300    0.490\n",
       "300+       0.760\n",
       "Name: Percent_Error, dtype: float64"
      ]
     },
     "execution_count": 37,
     "metadata": {},
     "output_type": "execute_result"
    },
    {
     "data": {
      "image/png": "[encoded data removed]",
      "text/plain": [
       "<matplotlib.figure.Figure at 0x1170040d0>"
      ]
     },
     "metadata": {},
     "output_type": "display_data"
    }
   ],
   "source": [
    "plt.scatter(error_df.Total_Actor_Score, error_df.Y_Actual)\n",
    "plt.title('Actor Score Vs Total Gross')\n",
    "plt.xlabel('Actor Score')\n",
    "plt.ylabel('Movie Total Gross')\n",
    "error_df.groupby('Act_Scr_Bins').Percent_Error.median()"
   ]
  },
  {
   "cell_type": "markdown",
   "metadata": {},
   "source": [
    "So who are my good actors?"
   ]
  },
  {
   "cell_type": "code",
   "execution_count": 38,
   "metadata": {
    "collapsed": false
   },
   "outputs": [
    {
     "data": {
      "text/plain": [
       "Ashley Greene        7\n",
       "Kristen Stewart      7\n",
       "Peter Facinelli      7\n",
       "Kellan Lutz          7\n",
       "Robert Pattinson     7\n",
       "Taylor Lautner       7\n",
       "Jackson Rathbone     7\n",
       "Billy Burke          7\n",
       "Elizabeth Reaser     6\n",
       "Nikki Reed           5\n",
       "Johnny Depp          4\n",
       "Michael Sheen        4\n",
       "Natalie Portman      4\n",
       "Naomie Harris        4\n",
       "Anthony Daniels      3\n",
       "Jack Davenport       3\n",
       "Stellan Skarsgard    3\n",
       "Ian McDiarmid        3\n",
       "Michael Caine        3\n",
       "Dakota Fanning       3\n",
       "dtype: int64"
      ]
     },
     "execution_count": 38,
     "metadata": {},
     "output_type": "execute_result"
    }
   ],
   "source": [
    "best_actrs_df = full_dropped[(full_dropped.Total_Actor_Score > 100) & ((full_dropped.Total_Gross/1000000).round() >600)]\n",
    "\n",
    "# Actors ordered by number of top grossing movies (with an Actor Score > 100) that they appear in\n",
    "pd.Series(best_actrs_df.Actors.sum()).value_counts()[:20] "
   ]
  },
  {
   "cell_type": "markdown",
   "metadata": {},
   "source": [
    "Lets broaden the serach to include ALL films that grossed more than 600 mil (including our outliers)"
   ]
  },
  {
   "cell_type": "code",
   "execution_count": 39,
   "metadata": {
    "collapsed": false
   },
   "outputs": [
    {
     "name": "stdout",
     "output_type": "stream",
     "text": [
      "(131, 44)\n"
     ]
    },
    {
     "data": {
      "text/plain": [
       "Ian McKellen          9\n",
       "Rupert Grint          8\n",
       "Emma Watson           8\n",
       "Robert Pattinson      8\n",
       "Orlando Bloom         8\n",
       "Daniel Radcliffe      8\n",
       "Billy Burke           7\n",
       "Gary Oldman           7\n",
       "Ashley Greene         7\n",
       "Taylor Lautner        7\n",
       "Peter Facinelli       7\n",
       "Kristen Stewart       7\n",
       "Kellan Lutz           7\n",
       "Jackson Rathbone      7\n",
       "Tyrese Gibson         6\n",
       "Elizabeth Reaser      6\n",
       "Eddie Murphy          6\n",
       "Scarlett Johansson    6\n",
       "Antonio Banderas      6\n",
       "Cameron Diaz          6\n",
       "Mike Myers            6\n",
       "dtype: int64"
      ]
     },
     "execution_count": 39,
     "metadata": {},
     "output_type": "execute_result"
    }
   ],
   "source": [
    "best_films = full[full.Total_Gross>600000000]\n",
    "print best_films.shape # 131 films\n",
    "all_best_actrs = pd.Series(best_films.Actors.sum()).value_counts()\n",
    "all_best_actrs[all_best_actrs>3][:21]"
   ]
  },
  {
   "cell_type": "markdown",
   "metadata": {},
   "source": [
    "Most of these actors are heavy hitters in famous series/franchises aka Ian Mckellen is in Lord of the Rings and X-Men, Rupert Grint and Emma Watson are in Harry Potter, A lot of people from twilight. This doesn't negate the idea that these are the guys/gals you want hire however. It's more a question of did these actors make their franchises great - or did the franchise make the actor great?\n"
   ]
  },
  {
   "cell_type": "markdown",
   "metadata": {
    "collapsed": false
   },
   "source": [
    "#### Inspecting Predictions By Director Score"
   ]
  },
  {
   "cell_type": "code",
   "execution_count": 40,
   "metadata": {
    "collapsed": false
   },
   "outputs": [
    {
     "data": {
      "text/plain": [
       "Dir_Bins\n",
       "0-5      0.568571\n",
       "5-10     0.580000\n",
       "10-15    0.417000\n",
       "15-20    0.330588\n",
       ">20      0.451053\n",
       "Name: Percent_Error, dtype: float64"
      ]
     },
     "execution_count": 40,
     "metadata": {},
     "output_type": "execute_result"
    }
   ],
   "source": [
    "error_df['Director_Score'] = full_dropped.ix[error_df.index, 'Director_Score']\n",
    "\n",
    "error_df.Director_Score.value_counts()\n",
    "dir_bins = [0,5,10,15,20,30]\n",
    "error_df['Dir_Bins'] = pd.cut(error_df.Director_Score, dir_bins, right = True,\n",
    "                             labels = ['0-5','5-10','10-15','15-20','>20'])\n",
    "error_df.groupby('Dir_Bins').Percent_Error.mean()\n",
    "# Slight Increase as dir score goes up"
   ]
  },
  {
   "cell_type": "markdown",
   "metadata": {},
   "source": [
    "# Examining Where My Model Shined"
   ]
  },
  {
   "cell_type": "markdown",
   "metadata": {},
   "source": [
    "I'm gonna look at the movies where my models prediction was within 10% of the actual gross"
   ]
  },
  {
   "cell_type": "markdown",
   "metadata": {},
   "source": [
    "### Actors"
   ]
  },
  {
   "cell_type": "code",
   "execution_count": 41,
   "metadata": {
    "collapsed": false
   },
   "outputs": [
    {
     "data": {
      "text/plain": [
       "Jamie Foxx         12\n",
       "Nicolas Cage       12\n",
       "Stanley Tucci      11\n",
       "Hugh Jackman       10\n",
       "Nicole Kidman      10\n",
       "Brad Pitt          10\n",
       "Dwayne Johnson     10\n",
       "Woody Harrelson     9\n",
       "Tom Hanks           9\n",
       "Cameron Diaz        9\n",
       "Eddie Murphy        9\n",
       "Vince Vaughn        9\n",
       "Kristen Wiig        9\n",
       "Jonah Hill          9\n",
       "Steve Carell        9\n",
       "Matt Damon          9\n",
       "Aaron Eckhart       8\n",
       "Paul Giamatti       8\n",
       "Colin Farrell       8\n",
       "John Travolta       8\n",
       "Johnny Depp         8\n",
       "dtype: int64"
      ]
     },
     "execution_count": 41,
     "metadata": {},
     "output_type": "execute_result"
    }
   ],
   "source": [
    "accurate = full_dropped[full_dropped.Title.isin(error_df[error_df.Percent_Error<10].Title)]\n",
    "\n",
    "predictable_actrs = pd.Series(accurate.Actors.sum()).value_counts()\n",
    "predictable_actrs[predictable_actrs > 5][:21]\n",
    "\n",
    "\n",
    "# These are predictable actors... They appear in movies that my model is good at predicting. \n",
    "# However this doesn't say whether or not they are predictably succesfull or unsuccesfull, \n",
    "# just that they are predictable"
   ]
  },
  {
   "cell_type": "markdown",
   "metadata": {},
   "source": [
    "### Release Month"
   ]
  },
  {
   "cell_type": "code",
   "execution_count": 42,
   "metadata": {
    "collapsed": false
   },
   "outputs": [
    {
     "data": {
      "text/plain": [
       "12    81\n",
       "11    74\n",
       "7     68\n",
       "8     60\n",
       "6     60\n",
       "10    56\n",
       "5     53\n",
       "3     53\n",
       "4     48\n",
       "2     45\n",
       "9     35\n",
       "1     21\n",
       "Name: Release_Month, dtype: int64"
      ]
     },
     "execution_count": 42,
     "metadata": {},
     "output_type": "execute_result"
    }
   ],
   "source": [
    "# Summer and Fall... nothign much here except studios like to release during winter holidays\n",
    "accurate.Release_Month.value_counts()"
   ]
  },
  {
   "cell_type": "markdown",
   "metadata": {},
   "source": [
    "### Genre"
   ]
  },
  {
   "cell_type": "markdown",
   "metadata": {},
   "source": [
    "Comedies, Horror, Action and Drama are most predictable...but predictably what..."
   ]
  },
  {
   "cell_type": "code",
   "execution_count": 43,
   "metadata": {
    "collapsed": false
   },
   "outputs": [
    {
     "data": {
      "text/plain": [
       "Comedy                   195.0\n",
       "Drama                    136.0\n",
       "Horror_Thriller          134.0\n",
       "Action                   130.0\n",
       "Adventure                 56.0\n",
       "Romantic                  51.0\n",
       "Animation                 46.0\n",
       "Scifi                     46.0\n",
       "Crime                     36.0\n",
       "Family_Kids               30.0\n",
       "Fantasy                   26.0\n",
       "Sport                     20.0\n",
       "Music_Musical             16.0\n",
       "Western                    8.0\n",
       "War                        7.0\n",
       "Foreign                    6.0\n",
       "Biography_Documentary      2.0\n",
       "Other                      1.0\n",
       "Disaster                   0.0\n",
       "dtype: float64"
      ]
     },
     "execution_count": 43,
     "metadata": {},
     "output_type": "execute_result"
    }
   ],
   "source": [
    "accurate.ix[:,25:].sum().sort_values(ascending=False)"
   ]
  },
  {
   "cell_type": "markdown",
   "metadata": {},
   "source": [
    "Comedies are predictably worse than median gross"
   ]
  },
  {
   "cell_type": "code",
   "execution_count": 44,
   "metadata": {
    "collapsed": false
   },
   "outputs": [
    {
     "name": "stdout",
     "output_type": "stream",
     "text": [
      "98410061.0\n"
     ]
    },
    {
     "data": {
      "text/plain": [
       "Comedy\n",
       "0.0    108539911.0\n",
       "1.0     80916492.0\n",
       "Name: Total_Gross, dtype: float64"
      ]
     },
     "execution_count": 44,
     "metadata": {},
     "output_type": "execute_result"
    }
   ],
   "source": [
    "print full_dropped.Total_Gross.median()\n",
    "accurate.groupby('Comedy').Total_Gross.median()"
   ]
  },
  {
   "cell_type": "markdown",
   "metadata": {},
   "source": [
    "Horrors are predictably worse than median gross"
   ]
  },
  {
   "cell_type": "code",
   "execution_count": 45,
   "metadata": {
    "collapsed": false
   },
   "outputs": [
    {
     "name": "stdout",
     "output_type": "stream",
     "text": [
      "98410061.0\n"
     ]
    },
    {
     "data": {
      "text/plain": [
       "Horror_Thriller\n",
       "0.0    102400566.5\n",
       "1.0     81649409.5\n",
       "Name: Total_Gross, dtype: float64"
      ]
     },
     "execution_count": 45,
     "metadata": {},
     "output_type": "execute_result"
    }
   ],
   "source": [
    "print full_dropped.Total_Gross.median()\n",
    "accurate.groupby('Horror_Thriller').Total_Gross.median()"
   ]
  },
  {
   "cell_type": "markdown",
   "metadata": {},
   "source": [
    "Action is predictably better than median gross"
   ]
  },
  {
   "cell_type": "code",
   "execution_count": 46,
   "metadata": {
    "collapsed": false
   },
   "outputs": [
    {
     "name": "stdout",
     "output_type": "stream",
     "text": [
      "98410061.0\n"
     ]
    },
    {
     "data": {
      "text/plain": [
       "Action\n",
       "0.0     87262155.0\n",
       "1.0    168783471.0\n",
       "Name: Total_Gross, dtype: float64"
      ]
     },
     "execution_count": 46,
     "metadata": {},
     "output_type": "execute_result"
    }
   ],
   "source": [
    "print full_dropped.Total_Gross.median()\n",
    "accurate.groupby('Action').Total_Gross.median()"
   ]
  },
  {
   "cell_type": "markdown",
   "metadata": {},
   "source": [
    "Drama is Predictably Worse"
   ]
  },
  {
   "cell_type": "code",
   "execution_count": 47,
   "metadata": {
    "collapsed": false
   },
   "outputs": [
    {
     "name": "stdout",
     "output_type": "stream",
     "text": [
      "98410061.0\n"
     ]
    },
    {
     "data": {
      "text/plain": [
       "Drama\n",
       "0.0    108218336.0\n",
       "1.0     52760129.5\n",
       "Name: Total_Gross, dtype: float64"
      ]
     },
     "execution_count": 47,
     "metadata": {},
     "output_type": "execute_result"
    }
   ],
   "source": [
    "print full_dropped.Total_Gross.median()\n",
    "accurate.groupby('Drama').Total_Gross.median()"
   ]
  },
  {
   "cell_type": "code",
   "execution_count": null,
   "metadata": {
    "collapsed": true
   },
   "outputs": [],
   "source": []
  }
 ],
 "metadata": {
  "kernelspec": {
   "display_name": "Python 2",
   "language": "python",
   "name": "python2"
  },
  "language_info": {
   "codemirror_mode": {
    "name": "ipython",
    "version": 2
   },
   "file_extension": ".py",
   "mimetype": "text/x-python",
   "name": "python",
   "nbconvert_exporter": "python",
   "pygments_lexer": "ipython2",
   "version": "2.7.10"
  }
 },
 "nbformat": 4,
 "nbformat_minor": 0
}
